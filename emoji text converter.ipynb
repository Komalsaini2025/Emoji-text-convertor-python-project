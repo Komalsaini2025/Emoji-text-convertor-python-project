{
 "cells": [
  {
   "cell_type": "code",
   "execution_count": 15,
   "id": "cd53cbf6-34f5-453d-b9a9-395628e0af46",
   "metadata": {},
   "outputs": [
    {
     "name": "stderr",
     "output_type": "stream",
     "text": [
      "C:\\Users\\DELL\\AppData\\Local\\Temp\\ipykernel_7980\\3143442536.py:3: FutureWarning: The demoji.download_codes attribute is deprecated and will be removed from demoji in a future version. It is an unused attribute as emoji codes are now distributed directly with the demoji package.\n",
      "  demoji.download_codes()\n"
     ]
    },
    {
     "data": {
      "text/plain": [
       "{'😄': 'grinning face with smiling eyes',\n",
       " '😦': 'frowning face with open mouth',\n",
       " '🙂': 'slightly smiling face',\n",
       " '😴': 'sleeping face',\n",
       " '😕': 'confused face',\n",
       " '🧒': 'child',\n",
       " '😸': 'grinning cat with smiling eyes',\n",
       " '☹️': 'frowning face',\n",
       " '😆': 'grinning squinting face',\n",
       " '👊': 'oncoming fist',\n",
       " '😃': 'grinning face with big eyes',\n",
       " '❓': 'red question mark',\n",
       " '😌': 'relieved face',\n",
       " '🥰': 'smiling face with hearts',\n",
       " '👀': 'eyes',\n",
       " '😍': 'smiling face with heart-eyes',\n",
       " '😀': 'grinning face'}"
      ]
     },
     "execution_count": 15,
     "metadata": {},
     "output_type": "execute_result"
    }
   ],
   "source": [
    "import demoji\n",
    "\n",
    "demoji.download_codes()\n",
    "\n",
    "text=\"HY GUYS There will be a secret party this year 😄😀🙂😕☹️😴❓, and get new things 🧒👀👊😸😦🫤😌🥰😍😆😃\"\n",
    "demoji.findall(text)"
   ]
  },
  {
   "cell_type": "code",
   "execution_count": 3,
   "id": "98722167-6586-4758-9503-c6e32d1324e0",
   "metadata": {},
   "outputs": [
    {
     "name": "stdout",
     "output_type": "stream",
     "text": [
      "Collecting demoji\n",
      "  Downloading demoji-1.1.0-py3-none-any.whl.metadata (9.2 kB)\n",
      "Downloading demoji-1.1.0-py3-none-any.whl (42 kB)\n",
      "   ---------------------------------------- 0.0/42.9 kB ? eta -:--:--\n",
      "   ---------------------------------------- 0.0/42.9 kB ? eta -:--:--\n",
      "   ------------------- -------------------- 20.5/42.9 kB 330.3 kB/s eta 0:00:01\n",
      "   ------------------- -------------------- 20.5/42.9 kB 330.3 kB/s eta 0:00:01\n",
      "   -------------------------------------- - 41.0/42.9 kB 281.8 kB/s eta 0:00:01\n",
      "   ---------------------------------------- 42.9/42.9 kB 209.0 kB/s eta 0:00:00\n",
      "Installing collected packages: demoji\n",
      "Successfully installed demoji-1.1.0\n",
      "Note: you may need to restart the kernel to use updated packages.\n"
     ]
    }
   ],
   "source": [
    "pip install demoji"
   ]
  }
 ],
 "metadata": {
  "kernelspec": {
   "display_name": "Python 3 (ipykernel)",
   "language": "python",
   "name": "python3"
  },
  "language_info": {
   "codemirror_mode": {
    "name": "ipython",
    "version": 3
   },
   "file_extension": ".py",
   "mimetype": "text/x-python",
   "name": "python",
   "nbconvert_exporter": "python",
   "pygments_lexer": "ipython3",
   "version": "3.12.4"
  }
 },
 "nbformat": 4,
 "nbformat_minor": 5
}
